{
 "cells": [
  {
   "cell_type": "markdown",
   "id": "f53b7963",
   "metadata": {},
   "source": [
    "# Kód vybere věk a dení čas strávený na síti a určí dominatní emoci"
   ]
  },
  {
   "cell_type": "code",
   "execution_count": 55,
   "id": "7a0f408f",
   "metadata": {},
   "outputs": [
    {
     "data": {
      "text/plain": [
       "0.875"
      ]
     },
     "execution_count": 55,
     "metadata": {},
     "output_type": "execute_result"
    }
   ],
   "source": [
    "import pandas as pd\n",
    "import matplotlib.pyplot as plt\n",
    "import numpy as np\n",
    "from sklearn.tree import DecisionTreeClassifier\n",
    "from sklearn.model_selection import train_test_split\n",
    "from sklearn.metrics import accuracy_score\n",
    "\n",
    "data = pd.read_csv('train2.csv', delimiter=';')\n",
    "data = data[['Age','Daily_Usage_Time (minutes)','Dominant_Emotion']]\n",
    "data = data.dropna()\n",
    "X = data.drop(columns=['Dominant_Emotion'])\n",
    "y = data['Dominant_Emotion']\n",
    "\n",
    "X_train, X_test, y_train, y_test = train_test_split(X, y, test_size=0.2)\n",
    "model = DecisionTreeClassifier()\n",
    "model.fit(X_train, y_train)\n",
    "predicts = model.predict(X_test)\n",
    "score=accuracy_score(y_test, predicts)\n",
    "score"
   ]
  },
  {
   "cell_type": "markdown",
   "id": "3ac56106",
   "metadata": {},
   "source": [
    "# Histogram "
   ]
  },
  {
   "cell_type": "code",
   "execution_count": 32,
   "id": "c3300618",
   "metadata": {
    "scrolled": true
   },
   "outputs": [
    {
     "data": {
      "image/png": "[encoded data removed]",
      "text/plain": [
       "<Figure size 432x288 with 1 Axes>"
      ]
     },
     "metadata": {
      "needs_background": "light"
     },
     "output_type": "display_data"
    }
   ],
   "source": [
    "import pandas as pd\n",
    "import matplotlib.pyplot as plt\n",
    "import numpy as np\n",
    "\n",
    "data = pd.read_csv('train2.csv', delimiter=';')\n",
    "f = data['Age']\n",
    "s = data['Daily_Usage_Time (minutes)']\n",
    "x = np.array(f,s)\n",
    "plt.hist(x)\n",
    "plt.show()"
   ]
  },
  {
   "cell_type": "markdown",
   "id": "ef2c48ab",
   "metadata": {},
   "source": [
    "# Graf, který zobrazí věk a jeho počet minut"
   ]
  },
  {
   "cell_type": "code",
   "execution_count": 56,
   "id": "7fa2638f",
   "metadata": {},
   "outputs": [
    {
     "data": {
      "image/png": "[encoded data removed]",
      "text/plain": [
       "<Figure size 432x288 with 1 Axes>"
      ]
     },
     "metadata": {
      "needs_background": "light"
     },
     "output_type": "display_data"
    }
   ],
   "source": [
    "import pandas as pd\n",
    "import matplotlib.pyplot as plt\n",
    "import numpy as np\n",
    "\n",
    "data = pd.read_csv('train2.csv', delimiter=';')\n",
    "f = data['Age']\n",
    "s = data['Daily_Usage_Time (minutes)']\n",
    "\n",
    "xpoints = np.array([f])\n",
    "ypoints = np.array([s])\n",
    "# změnit barvu teček na černou\n",
    "plt.plot(xpoints, ypoints,'o',color = 'black')\n",
    "plt.show()"
   ]
  }
 ],
 "metadata": {
  "kernelspec": {
   "display_name": "Python 3 (ipykernel)",
   "language": "python",
   "name": "python3"
  },
  "language_info": {
   "codemirror_mode": {
    "name": "ipython",
    "version": 3
   },
   "file_extension": ".py",
   "mimetype": "text/x-python",
   "name": "python",
   "nbconvert_exporter": "python",
   "pygments_lexer": "ipython3",
   "version": "3.9.6"
  }
 },
 "nbformat": 4,
 "nbformat_minor": 5
}
