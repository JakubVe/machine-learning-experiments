{
 "cells": [
  {
   "cell_type": "code",
   "execution_count": 23,
   "id": "7a0f408f",
   "metadata": {},
   "outputs": [
    {
     "data": {
      "text/plain": [
       "array([1., 1.])"
      ]
     },
     "execution_count": 23,
     "metadata": {},
     "output_type": "execute_result"
    }
   ],
   "source": [
    "import pandas as pd\n",
    "from sklearn.tree import DecisionTreeClassifier\n",
    "\n",
    "data = pd.read_csv('train2.csv', delimiter=';')\n",
    "data = data[['Age','Daily_Usage_Time (minutes)','Posts_Per_Day']]\n",
    "data = data.dropna()\n",
    "X = data.drop(columns=['Posts_Per_Day'])\n",
    "y = data['Posts_Per_Day']\n",
    "model = DecisionTreeClassifier()\n",
    "model.fit(X, y)\n",
    "predicts = model.predict([[120,23],[90,19]])\n",
    "predicts"
   ]
  },
  {
   "cell_type": "code",
   "execution_count": 20,
   "id": "c3300618",
   "metadata": {},
   "outputs": [
    {
     "data": {
      "text/html": [
       "<div>\n",
       "<style scoped>\n",
       "    .dataframe tbody tr th:only-of-type {\n",
       "        vertical-align: middle;\n",
       "    }\n",
       "\n",
       "    .dataframe tbody tr th {\n",
       "        vertical-align: top;\n",
       "    }\n",
       "\n",
       "    .dataframe thead th {\n",
       "        text-align: right;\n",
       "    }\n",
       "</style>\n",
       "<table border=\"1\" class=\"dataframe\">\n",
       "  <thead>\n",
       "    <tr style=\"text-align: right;\">\n",
       "      <th></th>\n",
       "      <th>Age</th>\n",
       "      <th>Daily_Usage_Time (minutes)</th>\n",
       "    </tr>\n",
       "  </thead>\n",
       "  <tbody>\n",
       "    <tr>\n",
       "      <th>0</th>\n",
       "      <td>25</td>\n",
       "      <td>120.0</td>\n",
       "    </tr>\n",
       "    <tr>\n",
       "      <th>1</th>\n",
       "      <td>30</td>\n",
       "      <td>90.0</td>\n",
       "    </tr>\n",
       "    <tr>\n",
       "      <th>2</th>\n",
       "      <td>22</td>\n",
       "      <td>60.0</td>\n",
       "    </tr>\n",
       "    <tr>\n",
       "      <th>3</th>\n",
       "      <td>28</td>\n",
       "      <td>200.0</td>\n",
       "    </tr>\n",
       "    <tr>\n",
       "      <th>4</th>\n",
       "      <td>33</td>\n",
       "      <td>45.0</td>\n",
       "    </tr>\n",
       "    <tr>\n",
       "      <th>...</th>\n",
       "      <td>...</td>\n",
       "      <td>...</td>\n",
       "    </tr>\n",
       "    <tr>\n",
       "      <th>996</th>\n",
       "      <td>33</td>\n",
       "      <td>85.0</td>\n",
       "    </tr>\n",
       "    <tr>\n",
       "      <th>997</th>\n",
       "      <td>22</td>\n",
       "      <td>70.0</td>\n",
       "    </tr>\n",
       "    <tr>\n",
       "      <th>998</th>\n",
       "      <td>35</td>\n",
       "      <td>110.0</td>\n",
       "    </tr>\n",
       "    <tr>\n",
       "      <th>999</th>\n",
       "      <td>28</td>\n",
       "      <td>60.0</td>\n",
       "    </tr>\n",
       "    <tr>\n",
       "      <th>1000</th>\n",
       "      <td>27</td>\n",
       "      <td>120.0</td>\n",
       "    </tr>\n",
       "  </tbody>\n",
       "</table>\n",
       "<p>1000 rows × 2 columns</p>\n",
       "</div>"
      ],
      "text/plain": [
       "     Age  Daily_Usage_Time (minutes)\n",
       "0     25                       120.0\n",
       "1     30                        90.0\n",
       "2     22                        60.0\n",
       "3     28                       200.0\n",
       "4     33                        45.0\n",
       "...   ..                         ...\n",
       "996   33                        85.0\n",
       "997   22                        70.0\n",
       "998   35                       110.0\n",
       "999   28                        60.0\n",
       "1000  27                       120.0\n",
       "\n",
       "[1000 rows x 2 columns]"
      ]
     },
     "execution_count": 20,
     "metadata": {},
     "output_type": "execute_result"
    }
   ],
   "source": [
    "X"
   ]
  },
  {
   "cell_type": "code",
   "execution_count": 14,
   "id": "edab829e",
   "metadata": {},
   "outputs": [
    {
     "data": {
      "text/plain": [
       "0       3.0\n",
       "1       5.0\n",
       "2       2.0\n",
       "3       8.0\n",
       "4       1.0\n",
       "       ... \n",
       "996     4.0\n",
       "997     1.0\n",
       "998     3.0\n",
       "999     2.0\n",
       "1000    4.0\n",
       "Name: Posts_Per_Day, Length: 1000, dtype: float64"
      ]
     },
     "execution_count": 14,
     "metadata": {},
     "output_type": "execute_result"
    }
   ],
   "source": [
    "y\n"
   ]
  },
  {
   "cell_type": "code",
   "execution_count": 22,
   "id": "a8096bc4",
   "metadata": {},
   "outputs": [
    {
     "data": {
      "text/html": [
       "<div>\n",
       "<style scoped>\n",
       "    .dataframe tbody tr th:only-of-type {\n",
       "        vertical-align: middle;\n",
       "    }\n",
       "\n",
       "    .dataframe tbody tr th {\n",
       "        vertical-align: top;\n",
       "    }\n",
       "\n",
       "    .dataframe thead th {\n",
       "        text-align: right;\n",
       "    }\n",
       "</style>\n",
       "<table border=\"1\" class=\"dataframe\">\n",
       "  <thead>\n",
       "    <tr style=\"text-align: right;\">\n",
       "      <th></th>\n",
       "      <th>User_ID;Age;Gender;Platform;Daily_Usage_Time (minutes);Posts_Per_Day;Likes_Received_Per_Day;Comments_Received_Per_Day;Messages_Sent_Per_Day;Dominant_Emotion</th>\n",
       "    </tr>\n",
       "  </thead>\n",
       "  <tbody>\n",
       "    <tr>\n",
       "      <th>0</th>\n",
       "      <td>;;;;;;;;;</td>\n",
       "    </tr>\n",
       "    <tr>\n",
       "      <th>1</th>\n",
       "      <td>1;25;Female;Instagram;120;3;45;10;12;Happiness</td>\n",
       "    </tr>\n",
       "    <tr>\n",
       "      <th>2</th>\n",
       "      <td>;;;;;;;;;</td>\n",
       "    </tr>\n",
       "    <tr>\n",
       "      <th>3</th>\n",
       "      <td>2;30;Male;Twitter;90;5;20;25;30;Anger</td>\n",
       "    </tr>\n",
       "    <tr>\n",
       "      <th>4</th>\n",
       "      <td>;;;;;;;;;</td>\n",
       "    </tr>\n",
       "    <tr>\n",
       "      <th>...</th>\n",
       "      <td>...</td>\n",
       "    </tr>\n",
       "    <tr>\n",
       "      <th>1999</th>\n",
       "      <td>998;35;Male;Whatsapp;110;3;50;25;25;Happiness</td>\n",
       "    </tr>\n",
       "    <tr>\n",
       "      <th>2000</th>\n",
       "      <td>;;;;;;;;;</td>\n",
       "    </tr>\n",
       "    <tr>\n",
       "      <th>2001</th>\n",
       "      <td>999;28;Non-binary;Telegram;60;2;18;8;18;Anger</td>\n",
       "    </tr>\n",
       "    <tr>\n",
       "      <th>2002</th>\n",
       "      <td>;;;;;;;;;</td>\n",
       "    </tr>\n",
       "    <tr>\n",
       "      <th>2003</th>\n",
       "      <td>1000;27;Female;Snapchat;120;4;40;18;22;Neutral</td>\n",
       "    </tr>\n",
       "  </tbody>\n",
       "</table>\n",
       "<p>2004 rows × 1 columns</p>\n",
       "</div>"
      ],
      "text/plain": [
       "     User_ID;Age;Gender;Platform;Daily_Usage_Time (minutes);Posts_Per_Day;Likes_Received_Per_Day;Comments_Received_Per_Day;Messages_Sent_Per_Day;Dominant_Emotion\n",
       "0                                             ;;;;;;;;;                                                                                                          \n",
       "1        1;25;Female;Instagram;120;3;45;10;12;Happiness                                                                                                          \n",
       "2                                             ;;;;;;;;;                                                                                                          \n",
       "3                 2;30;Male;Twitter;90;5;20;25;30;Anger                                                                                                          \n",
       "4                                             ;;;;;;;;;                                                                                                          \n",
       "...                                                 ...                                                                                                          \n",
       "1999      998;35;Male;Whatsapp;110;3;50;25;25;Happiness                                                                                                          \n",
       "2000                                          ;;;;;;;;;                                                                                                          \n",
       "2001      999;28;Non-binary;Telegram;60;2;18;8;18;Anger                                                                                                          \n",
       "2002                                          ;;;;;;;;;                                                                                                          \n",
       "2003     1000;27;Female;Snapchat;120;4;40;18;22;Neutral                                                                                                          \n",
       "\n",
       "[2004 rows x 1 columns]"
      ]
     },
     "execution_count": 22,
     "metadata": {},
     "output_type": "execute_result"
    }
   ],
   "source": [
    "data"
   ]
  },
  {
   "cell_type": "code",
   "execution_count": null,
   "id": "5dc1743b",
   "metadata": {},
   "outputs": [],
   "source": []
  }
 ],
 "metadata": {
  "kernelspec": {
   "display_name": "Python 3 (ipykernel)",
   "language": "python",
   "name": "python3"
  },
  "language_info": {
   "codemirror_mode": {
    "name": "ipython",
    "version": 3
   },
   "file_extension": ".py",
   "mimetype": "text/x-python",
   "name": "python",
   "nbconvert_exporter": "python",
   "pygments_lexer": "ipython3",
   "version": "3.9.6"
  }
 },
 "nbformat": 4,
 "nbformat_minor": 5
}
