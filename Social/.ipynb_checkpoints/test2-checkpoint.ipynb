{
 "cells": [
  {
   "cell_type": "markdown",
   "id": "3af879c7",
   "metadata": {},
   "source": [
    "# Podobný program ale na jinou databázy."
   ]
  },
  {
   "cell_type": "code",
   "execution_count": 37,
   "id": "7a0f408f",
   "metadata": {},
   "outputs": [
    {
     "data": {
      "text/plain": [
       "0.65"
      ]
     },
     "execution_count": 37,
     "metadata": {},
     "output_type": "execute_result"
    }
   ],
   "source": [
    "import pandas as pd\n",
    "from sklearn.tree import DecisionTreeClassifier\n",
    "from sklearn.model_selection import train_test_split\n",
    "from sklearn.metrics import accuracy_score\n",
    "\n",
    "data = pd.read_csv('train2.csv', delimiter=';')\n",
    "data = data[['Age','Daily_Usage_Time (minutes)','Dominant_Emotion']]\n",
    "data = data.dropna()\n",
    "X = data.drop(columns=['Dominant_Emotion'])\n",
    "y = data['Dominant_Emotion']\n",
    "X_train, X_test, y_train, y_test = train_test_split(X, y, test_size=0.9)\n",
    "model = DecisionTreeClassifier()\n",
    "model.fit(X_train, y_train)\n",
    "predicts = model.predict(X_test)\n",
    "score=accuracy_score(y_test, predicts)\n",
    "score"
   ]
  },
  {
   "cell_type": "code",
   "execution_count": 15,
   "id": "c3300618",
   "metadata": {
    "scrolled": true
   },
   "outputs": [
    {
     "data": {
      "text/plain": [
       "0.745"
      ]
     },
     "execution_count": 15,
     "metadata": {},
     "output_type": "execute_result"
    }
   ],
   "source": [
    "score"
   ]
  },
  {
   "cell_type": "code",
   "execution_count": 38,
   "id": "edab829e",
   "metadata": {},
   "outputs": [
    {
     "data": {
      "text/plain": [
       "array(['Boredom', 'Anger', 'Neutral', 'Sadness', 'Anxiety', 'Happiness',\n",
       "       'Neutral', 'Anxiety', 'Boredom', 'Happiness', 'Anxiety',\n",
       "       'Happiness', 'Boredom', 'Sadness', 'Boredom', 'Anxiety', 'Neutral',\n",
       "       'Happiness', 'Happiness', 'Anxiety', 'Anger', 'Neutral', 'Neutral',\n",
       "       'Happiness', 'Anxiety', 'Anger', 'Anxiety', 'Anger', 'Anger',\n",
       "       'Anxiety', 'Boredom', 'Happiness', 'Sadness', 'Anxiety',\n",
       "       'Happiness', 'Boredom', 'Neutral', 'Sadness', 'Happiness',\n",
       "       'Anxiety', 'Sadness', 'Neutral', 'Happiness', 'Boredom',\n",
       "       'Happiness', 'Anger', 'Boredom', 'Happiness', 'Happiness',\n",
       "       'Boredom', 'Happiness', 'Boredom', 'Boredom', 'Boredom', 'Boredom',\n",
       "       'Anger', 'Neutral', 'Neutral', 'Neutral', 'Anxiety', 'Neutral',\n",
       "       'Neutral', 'Boredom', 'Anxiety', 'Happiness', 'Anger', 'Neutral',\n",
       "       'Anxiety', 'Neutral', 'Happiness', 'Neutral', 'Anger', 'Anger',\n",
       "       'Boredom', 'Anger', 'Happiness', 'Neutral', 'Boredom', 'Anxiety',\n",
       "       'Neutral', 'Anxiety', 'Neutral', 'Neutral', 'Anxiety', 'Boredom',\n",
       "       'Anger', 'Neutral', 'Neutral', 'Sadness', 'Anger', 'Happiness',\n",
       "       'Neutral', 'Boredom', 'Neutral', 'Happiness', 'Neutral', 'Anger',\n",
       "       'Happiness', 'Boredom', 'Happiness', 'Anger', 'Anger', 'Sadness',\n",
       "       'Anxiety', 'Anxiety', 'Happiness', 'Anger', 'Anxiety', 'Neutral',\n",
       "       'Neutral', 'Boredom', 'Anxiety', 'Anxiety', 'Anger', 'Boredom',\n",
       "       'Anxiety', 'Boredom', 'Sadness', 'Anger', 'Anxiety', 'Sadness',\n",
       "       'Anxiety', 'Happiness', 'Anger', 'Happiness', 'Anger', 'Neutral',\n",
       "       'Happiness', 'Happiness', 'Anxiety', 'Sadness', 'Sadness', 'Anger',\n",
       "       'Anxiety', 'Boredom', 'Boredom', 'Boredom', 'Boredom', 'Anger',\n",
       "       'Happiness', 'Neutral', 'Neutral', 'Anxiety', 'Neutral', 'Anger',\n",
       "       'Neutral', 'Anxiety', 'Happiness', 'Anger', 'Anger', 'Anger',\n",
       "       'Anger', 'Happiness', 'Happiness', 'Anxiety', 'Boredom',\n",
       "       'Happiness', 'Boredom', 'Anxiety', 'Happiness', 'Anger', 'Anger',\n",
       "       'Happiness', 'Neutral', 'Happiness', 'Anxiety', 'Neutral',\n",
       "       'Neutral', 'Anger', 'Anger', 'Sadness', 'Happiness', 'Anxiety',\n",
       "       'Neutral', 'Anxiety', 'Boredom', 'Happiness', 'Anger', 'Anxiety',\n",
       "       'Anxiety', 'Sadness', 'Boredom', 'Happiness', 'Neutral', 'Anger',\n",
       "       'Anxiety', 'Happiness', 'Happiness', 'Boredom', 'Anxiety',\n",
       "       'Happiness', 'Boredom', 'Anger', 'Anxiety', 'Anger', 'Neutral',\n",
       "       'Boredom', 'Happiness', 'Happiness', 'Neutral', 'Anxiety',\n",
       "       'Happiness', 'Happiness', 'Anxiety', 'Happiness', 'Neutral',\n",
       "       'Neutral', 'Anger', 'Boredom', 'Sadness', 'Happiness', 'Neutral',\n",
       "       'Neutral', 'Boredom', 'Neutral', 'Happiness', 'Boredom', 'Boredom',\n",
       "       'Happiness', 'Neutral', 'Neutral', 'Sadness', 'Neutral', 'Neutral',\n",
       "       'Neutral', 'Anxiety', 'Boredom', 'Happiness', 'Happiness',\n",
       "       'Anxiety', 'Happiness', 'Boredom', 'Happiness', 'Boredom',\n",
       "       'Happiness', 'Neutral', 'Happiness', 'Sadness', 'Anxiety',\n",
       "       'Happiness', 'Sadness', 'Anxiety', 'Happiness', 'Boredom',\n",
       "       'Neutral', 'Anxiety', 'Anger', 'Anger', 'Neutral', 'Boredom',\n",
       "       'Anger', 'Happiness', 'Anxiety', 'Boredom', 'Neutral', 'Boredom',\n",
       "       'Happiness', 'Happiness', 'Anxiety', 'Neutral', 'Sadness',\n",
       "       'Neutral', 'Happiness', 'Neutral', 'Anxiety', 'Happiness',\n",
       "       'Boredom', 'Boredom', 'Neutral', 'Sadness', 'Anxiety', 'Happiness',\n",
       "       'Anxiety', 'Happiness', 'Boredom', 'Anxiety', 'Anxiety', 'Neutral',\n",
       "       'Anxiety', 'Anxiety', 'Sadness', 'Boredom', 'Neutral', 'Anger',\n",
       "       'Boredom', 'Boredom', 'Boredom', 'Anxiety', 'Anxiety', 'Boredom',\n",
       "       'Boredom', 'Happiness', 'Anger', 'Neutral', 'Anxiety', 'Boredom',\n",
       "       'Anger', 'Anger', 'Happiness', 'Neutral', 'Neutral', 'Neutral',\n",
       "       'Neutral', 'Happiness', 'Neutral', 'Boredom', 'Boredom', 'Anxiety',\n",
       "       'Boredom', 'Boredom', 'Anxiety', 'Anger', 'Boredom', 'Anxiety',\n",
       "       'Anxiety', 'Boredom', 'Anger', 'Anger', 'Neutral', 'Anxiety',\n",
       "       'Anger', 'Happiness', 'Sadness', 'Anxiety', 'Anxiety', 'Neutral',\n",
       "       'Happiness', 'Happiness', 'Happiness', 'Happiness', 'Anger',\n",
       "       'Boredom', 'Anxiety', 'Happiness', 'Anger', 'Happiness',\n",
       "       'Happiness', 'Happiness', 'Neutral', 'Anxiety', 'Anxiety',\n",
       "       'Neutral', 'Neutral', 'Neutral', 'Happiness', 'Anxiety', 'Boredom',\n",
       "       'Neutral', 'Anxiety', 'Boredom', 'Neutral', 'Anger', 'Happiness',\n",
       "       'Sadness', 'Happiness', 'Neutral', 'Neutral', 'Anger', 'Anxiety',\n",
       "       'Sadness', 'Neutral', 'Neutral', 'Happiness', 'Happiness',\n",
       "       'Sadness', 'Happiness', 'Boredom', 'Neutral', 'Neutral',\n",
       "       'Happiness', 'Boredom', 'Sadness', 'Anger', 'Happiness', 'Neutral',\n",
       "       'Anxiety', 'Anxiety', 'Neutral', 'Anxiety', 'Anxiety', 'Neutral',\n",
       "       'Anger', 'Boredom', 'Anxiety', 'Anxiety', 'Anxiety', 'Happiness',\n",
       "       'Anger', 'Anxiety', 'Anger', 'Anger', 'Neutral', 'Anger',\n",
       "       'Happiness', 'Neutral', 'Happiness', 'Happiness', 'Anger', 'Anger',\n",
       "       'Boredom', 'Neutral', 'Happiness', 'Neutral', 'Neutral', 'Neutral',\n",
       "       'Sadness', 'Neutral', 'Anxiety', 'Anger', 'Neutral', 'Anxiety',\n",
       "       'Anxiety', 'Happiness', 'Anxiety', 'Boredom', 'Anxiety',\n",
       "       'Happiness', 'Anger', 'Neutral', 'Anxiety', 'Happiness', 'Neutral',\n",
       "       'Anger', 'Anxiety', 'Happiness', 'Happiness', 'Neutral', 'Neutral',\n",
       "       'Boredom', 'Anxiety', 'Sadness', 'Happiness', 'Anxiety',\n",
       "       'Happiness', 'Anxiety', 'Sadness', 'Anxiety', 'Anxiety', 'Anger',\n",
       "       'Happiness', 'Boredom', 'Neutral', 'Anger', 'Neutral', 'Sadness',\n",
       "       'Boredom', 'Anxiety', 'Boredom', 'Boredom', 'Boredom', 'Anxiety',\n",
       "       'Anxiety', 'Anxiety', 'Neutral', 'Happiness', 'Neutral', 'Anxiety',\n",
       "       'Boredom', 'Anger', 'Neutral', 'Anxiety', 'Anxiety', 'Happiness',\n",
       "       'Happiness', 'Happiness', 'Anger', 'Anxiety', 'Anger', 'Happiness',\n",
       "       'Anger', 'Neutral', 'Neutral', 'Anxiety', 'Neutral', 'Anxiety',\n",
       "       'Neutral', 'Neutral', 'Neutral', 'Anxiety', 'Anxiety', 'Neutral',\n",
       "       'Anxiety', 'Neutral', 'Anger', 'Anger', 'Boredom', 'Anxiety',\n",
       "       'Anger', 'Happiness', 'Anger', 'Neutral', 'Anxiety', 'Anger',\n",
       "       'Boredom', 'Anxiety', 'Anger', 'Boredom', 'Anxiety', 'Anger',\n",
       "       'Happiness', 'Happiness', 'Anger', 'Neutral', 'Happiness',\n",
       "       'Neutral', 'Boredom', 'Anxiety', 'Sadness', 'Anxiety', 'Anxiety',\n",
       "       'Anger', 'Anger', 'Neutral', 'Anger', 'Anxiety', 'Neutral',\n",
       "       'Neutral', 'Anxiety', 'Happiness', 'Happiness', 'Happiness',\n",
       "       'Boredom', 'Happiness', 'Happiness', 'Anger', 'Sadness', 'Boredom',\n",
       "       'Boredom', 'Anxiety', 'Anxiety', 'Anxiety', 'Anxiety', 'Neutral',\n",
       "       'Happiness', 'Neutral', 'Happiness', 'Sadness', 'Happiness',\n",
       "       'Neutral', 'Anxiety', 'Sadness', 'Anger', 'Boredom', 'Boredom',\n",
       "       'Boredom', 'Anxiety', 'Sadness', 'Anxiety', 'Anxiety', 'Boredom',\n",
       "       'Happiness', 'Anger', 'Anxiety', 'Anxiety', 'Anger', 'Boredom',\n",
       "       'Happiness', 'Anger', 'Neutral', 'Happiness', 'Neutral', 'Boredom',\n",
       "       'Neutral', 'Boredom', 'Happiness', 'Anxiety', 'Happiness', 'Anger',\n",
       "       'Anxiety', 'Anger', 'Neutral', 'Boredom', 'Happiness', 'Neutral',\n",
       "       'Happiness', 'Anxiety', 'Anxiety', 'Neutral', 'Anxiety',\n",
       "       'Happiness', 'Neutral', 'Boredom', 'Anger', 'Neutral', 'Boredom',\n",
       "       'Boredom', 'Anger', 'Boredom', 'Happiness', 'Happiness', 'Neutral',\n",
       "       'Happiness', 'Neutral', 'Anxiety', 'Sadness', 'Neutral', 'Boredom',\n",
       "       'Happiness', 'Happiness', 'Neutral', 'Sadness', 'Happiness',\n",
       "       'Neutral', 'Boredom', 'Anger', 'Boredom', 'Anxiety', 'Neutral',\n",
       "       'Happiness', 'Sadness', 'Anxiety', 'Anxiety', 'Boredom', 'Neutral',\n",
       "       'Neutral', 'Sadness', 'Happiness', 'Happiness', 'Anger', 'Anger',\n",
       "       'Boredom', 'Happiness', 'Anxiety', 'Anger', 'Anxiety', 'Boredom',\n",
       "       'Boredom', 'Anger', 'Anxiety', 'Anxiety', 'Anxiety', 'Anxiety',\n",
       "       'Neutral', 'Sadness', 'Happiness', 'Boredom', 'Neutral', 'Neutral',\n",
       "       'Neutral', 'Anger', 'Happiness', 'Anxiety', 'Anger', 'Sadness',\n",
       "       'Happiness', 'Anger', 'Neutral', 'Anxiety', 'Anxiety', 'Boredom',\n",
       "       'Neutral', 'Boredom', 'Neutral', 'Anxiety', 'Anger', 'Anger',\n",
       "       'Neutral', 'Anxiety', 'Sadness', 'Anger', 'Happiness', 'Happiness',\n",
       "       'Anxiety', 'Happiness', 'Happiness', 'Sadness', 'Anxiety',\n",
       "       'Sadness', 'Happiness', 'Happiness', 'Happiness', 'Happiness',\n",
       "       'Neutral', 'Happiness', 'Anger', 'Neutral', 'Neutral', 'Neutral',\n",
       "       'Anxiety', 'Neutral', 'Anxiety', 'Happiness', 'Sadness', 'Sadness',\n",
       "       'Happiness', 'Anxiety', 'Anxiety', 'Anxiety', 'Happiness',\n",
       "       'Boredom', 'Neutral', 'Happiness', 'Neutral', 'Sadness', 'Anger',\n",
       "       'Neutral', 'Anxiety', 'Anger', 'Neutral', 'Anxiety', 'Neutral',\n",
       "       'Neutral', 'Anger', 'Sadness', 'Anger', 'Boredom', 'Sadness',\n",
       "       'Anger', 'Anxiety', 'Boredom', 'Neutral', 'Boredom', 'Boredom',\n",
       "       'Anger', 'Neutral', 'Neutral', 'Neutral', 'Sadness', 'Sadness',\n",
       "       'Anxiety', 'Neutral', 'Anger', 'Anxiety', 'Anxiety', 'Neutral',\n",
       "       'Sadness', 'Anger', 'Happiness', 'Anxiety', 'Happiness', 'Neutral',\n",
       "       'Boredom', 'Neutral', 'Anxiety', 'Happiness', 'Anxiety', 'Neutral',\n",
       "       'Anxiety', 'Boredom', 'Anger', 'Neutral', 'Boredom', 'Anger',\n",
       "       'Neutral', 'Sadness', 'Anxiety', 'Anger', 'Anger', 'Anxiety',\n",
       "       'Neutral', 'Neutral', 'Happiness', 'Neutral', 'Anger', 'Anxiety',\n",
       "       'Happiness', 'Anger', 'Anxiety', 'Anger', 'Happiness', 'Neutral',\n",
       "       'Boredom', 'Anxiety', 'Sadness', 'Anxiety', 'Happiness', 'Anxiety',\n",
       "       'Happiness', 'Anger', 'Boredom', 'Anxiety', 'Neutral', 'Boredom',\n",
       "       'Neutral', 'Neutral', 'Happiness', 'Happiness', 'Neutral',\n",
       "       'Anxiety', 'Anxiety', 'Neutral', 'Neutral', 'Anger', 'Neutral',\n",
       "       'Boredom', 'Neutral', 'Neutral', 'Anger', 'Anger', 'Anger',\n",
       "       'Anxiety', 'Neutral', 'Neutral', 'Happiness', 'Anxiety', 'Boredom',\n",
       "       'Anger', 'Happiness', 'Neutral', 'Anxiety', 'Happiness',\n",
       "       'Happiness', 'Anxiety', 'Anger', 'Boredom', 'Happiness',\n",
       "       'Happiness', 'Anxiety', 'Neutral', 'Happiness', 'Happiness',\n",
       "       'Anxiety', 'Anger', 'Anxiety', 'Neutral', 'Neutral', 'Happiness',\n",
       "       'Neutral', 'Anxiety', 'Happiness', 'Anxiety', 'Anxiety', 'Anger',\n",
       "       'Neutral', 'Sadness', 'Boredom', 'Anger', 'Anxiety', 'Neutral',\n",
       "       'Neutral', 'Anger', 'Sadness', 'Neutral', 'Happiness', 'Sadness',\n",
       "       'Happiness', 'Anxiety', 'Anxiety', 'Anxiety', 'Happiness',\n",
       "       'Happiness', 'Anxiety', 'Anxiety', 'Anxiety', 'Neutral', 'Anxiety',\n",
       "       'Happiness', 'Neutral', 'Boredom', 'Anxiety', 'Neutral', 'Anger',\n",
       "       'Boredom', 'Sadness', 'Boredom', 'Neutral', 'Happiness', 'Neutral',\n",
       "       'Anxiety', 'Boredom', 'Neutral', 'Anxiety', 'Anxiety', 'Happiness',\n",
       "       'Anxiety', 'Neutral', 'Anger', 'Anxiety', 'Boredom', 'Neutral',\n",
       "       'Sadness', 'Neutral', 'Anxiety', 'Boredom', 'Anxiety', 'Anger',\n",
       "       'Anger', 'Neutral', 'Happiness', 'Sadness', 'Anger', 'Anxiety',\n",
       "       'Anxiety', 'Sadness', 'Boredom', 'Anxiety', 'Sadness', 'Anxiety',\n",
       "       'Happiness', 'Sadness', 'Sadness', 'Anxiety', 'Neutral',\n",
       "       'Happiness', 'Anger', 'Anger', 'Anxiety', 'Anxiety', 'Anger',\n",
       "       'Sadness'], dtype=object)"
      ]
     },
     "execution_count": 38,
     "metadata": {},
     "output_type": "execute_result"
    }
   ],
   "source": [
    "predicts"
   ]
  },
  {
   "cell_type": "code",
   "execution_count": null,
   "id": "22297965",
   "metadata": {},
   "outputs": [],
   "source": []
  }
 ],
 "metadata": {
  "kernelspec": {
   "display_name": "Python 3 (ipykernel)",
   "language": "python",
   "name": "python3"
  },
  "language_info": {
   "codemirror_mode": {
    "name": "ipython",
    "version": 3
   },
   "file_extension": ".py",
   "mimetype": "text/x-python",
   "name": "python",
   "nbconvert_exporter": "python",
   "pygments_lexer": "ipython3",
   "version": "3.9.6"
  }
 },
 "nbformat": 4,
 "nbformat_minor": 5
}
